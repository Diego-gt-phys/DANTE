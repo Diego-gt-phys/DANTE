{
 "cells": [
  {
   "cell_type": "markdown",
   "id": "ee650fd2-4ed8-4f10-9670-5ad86de86a91",
   "metadata": {},
   "source": [
    "# DANTE.py Figure Maker\n",
    "\n",
    "All of the plots that require more than one data file will be made in this notebook."
   ]
  },
  {
   "cell_type": "code",
   "execution_count": 1,
   "id": "acdbf0cd-478e-4de3-a030-a3465f607681",
   "metadata": {},
   "outputs": [],
   "source": [
    "import numpy as np\n",
    "import matplotlib.pyplot as plt\n",
    "from matplotlib.ticker import ScalarFormatter\n",
    "import matplotlib.lines as mlines\n",
    "import seaborn as sns\n",
    "import pandas as pd"
   ]
  },
  {
   "cell_type": "code",
   "execution_count": null,
   "id": "2afd40f2-4b27-4f33-ad8a-d71935f5b69c",
   "metadata": {},
   "outputs": [],
   "source": []
  }
 ],
 "metadata": {
  "kernelspec": {
   "display_name": "Python 3 (ipykernel)",
   "language": "python",
   "name": "python3"
  },
  "language_info": {
   "codemirror_mode": {
    "name": "ipython",
    "version": 3
   },
   "file_extension": ".py",
   "mimetype": "text/x-python",
   "name": "python",
   "nbconvert_exporter": "python",
   "pygments_lexer": "ipython3",
   "version": "3.11.5"
  }
 },
 "nbformat": 4,
 "nbformat_minor": 5
}
